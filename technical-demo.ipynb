{
 "cells": [
  {
   "cell_type": "markdown",
   "id": "55c6738f",
   "metadata": {},
   "source": [
    "# GenAI for Insurance: Multi-Document Summarization Demo\n"
   ]
  },
  {
   "cell_type": "markdown",
   "id": "505ebce8",
   "metadata": {},
   "source": [
    "## 1. Introduction"
   ]
  },
  {
   "cell_type": "markdown",
   "id": "ef62108c",
   "metadata": {},
   "source": [
    "This notebook demonstrates how to apply Multi-Document Summarization (MDS) techniques to insurance product documentation.\n",
    "\n",
    "We will use a pre-processed dataset of insurance documents and a summarization pipeline based on LangChain APIs and ChatGPT-4o Mini.\n"
   ]
  },
  {
   "cell_type": "markdown",
   "id": "479b1635",
   "metadata": {},
   "source": [
    "## 2. Setup and Imports"
   ]
  },
  {
   "cell_type": "code",
   "execution_count": null,
   "id": "51bc605e",
   "metadata": {},
   "outputs": [],
   "source": [
    "# Install required libraries (if not already installed)\n"
   ]
  },
  {
   "cell_type": "code",
   "execution_count": null,
   "id": "5bf72b1b",
   "metadata": {},
   "outputs": [],
   "source": [
    "# Import libraries\n",
    "import os\n",
    "from PyPDF2 import PdfReader, PdfWriter\n",
    "from langchain_core.prompts import PromptTemplate\n",
    "from langchain_openai import ChatOpenAI\n",
    "from langchain.chains.llm import LLMChain\n",
    "from langchain.chains.combine_documents.stuff import StuffDocumentsChain\n",
    "from langchain.chains import MapReduceDocumentsChain, ReduceDocumentsChain\n",
    "from langchain_community.document_loaders import PyPDFLoader\n",
    "from langchain.docstore.document import Document\n"
   ]
  },
  {
   "cell_type": "code",
   "execution_count": null,
   "id": "125f8b7c",
   "metadata": {},
   "outputs": [],
   "source": [
    "# Load OpenAI API key\n",
    "# Instructions: https://help.openai.com/en/articles/4936850-where-do-i-find-my-openai-api-key\n",
    "open_api_key = \"Insert you OpenAI API key here\"\n",
    "os.environ[\"OPENAI_API_KEY\"]=open_api_key"
   ]
  },
  {
   "cell_type": "markdown",
   "id": "a0db2468",
   "metadata": {},
   "source": [
    "## 3. Document Split"
   ]
  },
  {
   "cell_type": "code",
   "execution_count": null,
   "id": "5362c9d9",
   "metadata": {},
   "outputs": [],
   "source": [
    "# Pre-defined sections for the selected document\n",
    "sections =[(3, 4), (7, 32), (33, 34), (39, 49), (50, 60), (61, 79), (80, 110), (111, 135), (136, 143), (144, 150), (151, 172), (173, 202), (204, 209)]\n",
    "\n",
    "# Create files from intervals\n",
    "pdf_reader = PdfReader(\"1.pdf\")\n",
    "os.makedirs(\"documents\")\n",
    "for i, interval in enumerate(sections):\n",
    "    start, end = interval\n",
    "\n",
    "    pdf_writer = PdfWriter()\n",
    "    for page_num in range(start - 1, end):\n",
    "        pdf_writer.add_page(pdf_reader.pages[page_num])\n",
    "    # Create the output file\n",
    "    output_file = f\"documents/{i+1}.pdf\"\n",
    "    with open(output_file, \"wb\") as output_pdf:\n",
    "        pdf_writer.write(output_pdf)\n",
    "\n",
    "    print(f\"Created file: {output_file}\")\n"
   ]
  },
  {
   "cell_type": "markdown",
   "id": "b987418d",
   "metadata": {},
   "source": [
    "## 4. Prompt definition"
   ]
  },
  {
   "cell_type": "code",
   "execution_count": null,
   "id": "5d55c01d",
   "metadata": {},
   "outputs": [],
   "source": [
    "# Map prompt with CoE technique for insurance documents\n",
    "map_template = \"\\nOra sei un generatore di riassunti multi-documento. Il tuo <Input> \\u00e8 un insieme di testi assicurativi che riguardano un prodotto assicurativo specifico. Dovrai estrarre le informazioni principali e specifiche relative a ciascun documento, concentrandoti su dettagli finanziari e di copertura.\\n\\n<Input>\\n{Input}\\n</Input>\\n\\n<Estrazione delle informazioni critiche>\\nPer ciascun documento nel <Input>, estrai e riassumi le informazioni critiche relative al prodotto assicurativo. In particolare, concentrati sui seguenti aspetti chiave e produci una singola linea per ciascun documento, includendo le informazioni finanziarie e di copertura.\\n\\n1. Descrizione del prodotto e tipi di copertura (es. decesso, invalidit\\u00e0 permanente, danni materiali, ecc.)\\n2. Limiti di copertura e importi di rimborso specifici (es. \\u20ac600 per incidente, \\u20ac1.000 per danni elettrici).\\n3. Esclusioni (cosa non \\u00e8 coperto dalla polizza).\\n4. Franchigie e altri dettagli finanziari (es. \\u20ac150 di franchigia per danni da acqua).\\n5. Opzioni di copertura aggiuntiva, inclusi eventuali costi aggiuntivi.\\n6. Durata del contratto, termini di rinnovo e pagamento.\\n7. Processo di gestione dei sinistri e condizioni per il rimborso.\\n\\nQuesto \\u00e8 un esempio di estrazione delle informazioni critiche:\\n<Esempio di estrazione delle informazioni critiche>\\nTesto 1: Il prodotto \\\"VITA SICURA\\\" offre una copertura per decesso fino a \\u20ac500.000; copertura in caso di invalidit\\u00e0 permanente fino a \\u20ac250.000; esclusioni includono malattie preesistenti e sport pericolosi; franchigia del 5% per invalidit\\u00e0; durata del contratto: 10 anni con rinnovo automatico.\\nTesto 2: Il prodotto \\\"CASA PROTETTA\\\" offre copertura per danni materiali fino a \\u20ac300.000; franchigia di \\u20ac400 per sinistro; esclusione per danni derivanti da negligenza; opzioni aggiuntive per copertura danni da acqua a \\u20ac200/anno.\\n</Esempio di estrazione delle informazioni critiche>\\n\\nSeguendo l'esempio sopra, estrai le informazioni critiche per ciascun documento assicurativo del <Input>, producendo una singola riga per ciascun documento.\\n\"\n",
    "print(map_template)"
   ]
  },
  {
   "cell_type": "code",
   "execution_count": null,
   "id": "a4e116f3",
   "metadata": {},
   "outputs": [],
   "source": [
    "# Reduce prompt with CoE technique for insurance documents\n",
    "reduce_template = \"\\nIl tuo <Input> \\u00e8 un insieme di riassunti specifici estratti da documenti assicurativi. Il tuo compito \\u00e8 analizzare questi riassunti, astrarre le informazioni principali e combinarle in una sintesi coesa.\\n\\n<Input>\\n{Input}\\n</Input>\\n\\n<Astrazione delle informazioni e generalizzazione>\\n1. Analizza ciascun riassunto estratto nella fase MAP e astrai le caratteristiche comuni del prodotto assicurativo.\\n2. Generalizza i dettagli chiave relativi a:\\n - Tipi di copertura e limiti di rimborso.\\n - Esclusioni principali.\\n - Franchigie e importi finanziari specifici.\\n - Durata del contratto e condizioni di rinnovo.\\n3. Raccogli i dettagli specifici e condensali in una singola versione astratta del prodotto, omettendo dettagli superflui o ridondanti.\\n\\nQuesto \\u00e8 un esempio di astrazione e generalizzazione:\\n<Esempio di astrazione e generalizzazione>\\nInput:\\nRiassunto 1: Il prodotto \\\"VITA SICURA\\\" offre una copertura per decesso fino a \\u20ac500.000, invalidit\\u00e0 permanente fino a \\u20ac250.000, esclusioni per malattie preesistenti, con franchigia del 5%.\\nRiassunto 2: Il prodotto \\\"CASA PROTETTA\\\" include copertura per danni materiali fino a \\u20ac300.000, con esclusione per negligenza e franchigia di \\u20ac400.\\n\\nRisultato di astrazione e generalizzazione:\\n- Copertura del prodotto per eventi critici come decesso e danni materiali con limiti di \\u20ac500.000 e \\u20ac300.000 rispettivamente.\\n- Esclusioni comuni includono malattie preesistenti e negligenza.\\n- Franchigie comprese tra il 5% e \\u20ac400 a seconda del tipo di sinistro.\\n</Esempio di astrazione e generalizzazione>\\n\\n<Statistica degli elementi comuni>\\nDopo aver generalizzato le informazioni, trova gli elementi che ricorrono in pi\\u00f9 documenti e seleziona quelli che coprono la maggior parte dei testi. Questi elementi saranno centrali nel riassunto finale.\\n\\nQuesto \\u00e8 un esempio di statistica degli elementi comuni:\\n<Esempio di statistica degli elementi comuni>\\nElemento comune 1: Copertura per decesso (testi 1, 2, 3)\\nElemento comune 2: Esclusioni per malattie preesistenti (testi 1, 2)\\nElemento comune 3: Franchigia del 5% per sinistri di invalidit\\u00e0 (testi 1, 3)\\n</Esempio di statistica degli elementi comuni>\\n\\n<Generazione del riassunto finale>\\nInfine, integra gli elementi selezionati e generalizzati per formare un riassunto finale coeso e ordinato cronologicamente o per importanza.\\n\\nEsempio di riassunto finale:\\nIl prodotto assicurativo \\\"VITA SICURA PLUS\\\" fornisce copertura per decesso fino a \\u20ac500.000, con protezione aggiuntiva in caso di invalidit\\u00e0 fino a \\u20ac250.000. Esclusioni principali comprendono malattie preesistenti non dichiarate e sport estremi. Il contratto prevede una franchigia del 5% per sinistri di invalidit\\u00e0 e una copertura opzionale per malattie critiche.\\n</Esempio di riassunto finale>\\n\\nAssicurati che il riassunto finale sia scritto in italiano e compreso tra 300 e 500 parole.\\n\"\n",
    "print(reduce_template)"
   ]
  },
  {
   "cell_type": "markdown",
   "id": "0214a8ca",
   "metadata": {},
   "source": [
    "## 5. Map-Reduce Summarization"
   ]
  },
  {
   "cell_type": "code",
   "execution_count": null,
   "id": "4e26c163",
   "metadata": {},
   "outputs": [],
   "source": [
    "#Map\n",
    "map_prompt = PromptTemplate.from_template(map_template)\n",
    "\n",
    "# Define LLM Map chain\n",
    "llm = ChatOpenAI(temperature=0, model_name=\"gpt-4o-mini\")\n",
    "map_chain = LLMChain(llm=llm, prompt=map_prompt)"
   ]
  },
  {
   "cell_type": "code",
   "execution_count": null,
   "id": "72881556",
   "metadata": {},
   "outputs": [],
   "source": [
    "# Reduce\n",
    "reduce_prompt = PromptTemplate.from_template(reduce_template)"
   ]
  },
  {
   "cell_type": "code",
   "execution_count": null,
   "id": "0c8b5498",
   "metadata": {},
   "outputs": [],
   "source": [
    "# Run chain\n",
    "reduce_chain = LLMChain(llm=llm, prompt=reduce_prompt)\n",
    "\n",
    "# Take a list of documents, combine them into a single string, and pass this to an LLMChain\n",
    "combine_documents_chain = StuffDocumentsChain(\n",
    "    llm_chain=reduce_chain, document_variable_name=\"Input\"\n",
    ")\n",
    "\n",
    "# Combine and iteratively reduce the mapped documents\n",
    "reduce_documents_chain = ReduceDocumentsChain(\n",
    "    # The final chain\n",
    "    combine_documents_chain=combine_documents_chain,\n",
    "    # If documents exceed context for `StuffDocumentsChain`\n",
    "    collapse_documents_chain=combine_documents_chain,\n",
    "    # The maximum number of tokens to group documents into.\n",
    "    token_max=16000,\n",
    ")"
   ]
  },
  {
   "cell_type": "code",
   "execution_count": null,
   "id": "55f29f34",
   "metadata": {},
   "outputs": [],
   "source": [
    "# Apply MapReduce chain to all clusters\n",
    "# Combining documents by mapping a chain over them, then combining results\n",
    "map_reduce_chain = MapReduceDocumentsChain(\n",
    "    # Map chain\n",
    "    llm_chain=map_chain,\n",
    "    # Reduce chain\n",
    "    reduce_documents_chain=reduce_documents_chain,\n",
    "    # The variable name in the llm_chain to put the documents in\n",
    "    document_variable_name=\"Input\",\n",
    "    # Return the results of the map steps in the output\n",
    "    return_intermediate_steps=True,\n",
    "    # Print log messages while generating the summary\n",
    "    verbose=True,\n",
    ")"
   ]
  },
  {
   "cell_type": "code",
   "execution_count": null,
   "id": "0ab8549d",
   "metadata": {},
   "outputs": [],
   "source": [
    "# Create the Document object to use it in the LLM Chain\n",
    "path = \"./documents/\"\n",
    "docs_split = []\n",
    "for file in os.listdir(path):\n",
    "    file_path = path+file\n",
    "    pages = PyPDFLoader(file_path).load()\n",
    "    text = ''.join([elem.page_content for elem in pages])\n",
    "    docs_split.append(Document(page_content=text, metadata={'filename': file}))"
   ]
  },
  {
   "cell_type": "code",
   "execution_count": null,
   "id": "4c44101b",
   "metadata": {},
   "outputs": [],
   "source": [
    "# Compute and print the summary\n",
    "generated_summaries = []\n",
    "res = map_reduce_chain.invoke(docs_split)\n",
    "summary = res[\"output_text\"] #Final summary\n",
    "int_steps = res[\"intermediate_steps\"] #Intermediate steps"
   ]
  },
  {
   "cell_type": "code",
   "execution_count": null,
   "id": "1aa11190",
   "metadata": {},
   "outputs": [],
   "source": [
    "# Print the result summary\n",
    "print(summary)"
   ]
  },
  {
   "cell_type": "code",
   "execution_count": null,
   "id": "46a13a5f",
   "metadata": {},
   "outputs": [],
   "source": [
    "# Print the intermediate steps\n",
    "for elem in int_steps:\n",
    "    print(elem)"
   ]
  },
  {
   "cell_type": "markdown",
   "id": "59859b0b",
   "metadata": {},
   "source": [
    "## 6. Conclusion\n",
    "\n",
    "This notebook shows how GenAI can simplify the analysis of complex insurance documentation using Multi-Document Summarization.\n",
    "\n",
    "👉 For more insights, refer to the full article: [Link to Medium post]\n"
   ]
  }
 ],
 "metadata": {
  "kernelspec": {
   "display_name": "Python 3 (ipykernel)",
   "language": "python",
   "name": "python3"
  },
  "language_info": {
   "codemirror_mode": {
    "name": "ipython",
    "version": 3
   },
   "file_extension": ".py",
   "mimetype": "text/x-python",
   "name": "python",
   "nbconvert_exporter": "python",
   "pygments_lexer": "ipython3",
   "version": "3.11.0"
  }
 },
 "nbformat": 4,
 "nbformat_minor": 5
}
